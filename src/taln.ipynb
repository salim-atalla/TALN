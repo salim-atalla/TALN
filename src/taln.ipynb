{
 "cells": [
  {
   "cell_type": "code",
   "execution_count": 3,
   "id": "9b0fad7a-ca3f-4b4c-ba50-2e17f6d3024c",
   "metadata": {},
   "outputs": [
    {
     "data": {
      "text/html": [
       "<div>\n",
       "<style scoped>\n",
       "    .dataframe tbody tr th:only-of-type {\n",
       "        vertical-align: middle;\n",
       "    }\n",
       "\n",
       "    .dataframe tbody tr th {\n",
       "        vertical-align: top;\n",
       "    }\n",
       "\n",
       "    .dataframe thead th {\n",
       "        text-align: right;\n",
       "    }\n",
       "</style>\n",
       "<table border=\"1\" class=\"dataframe\">\n",
       "  <thead>\n",
       "    <tr style=\"text-align: right;\">\n",
       "      <th></th>\n",
       "      <th>doc_id</th>\n",
       "      <th>titre</th>\n",
       "      <th>type</th>\n",
       "      <th>difficulte</th>\n",
       "      <th>cout</th>\n",
       "      <th>ingredients</th>\n",
       "      <th>recette</th>\n",
       "    </tr>\n",
       "  </thead>\n",
       "  <tbody>\n",
       "    <tr>\n",
       "      <th>0</th>\n",
       "      <td>recette_221358.xml</td>\n",
       "      <td>Feuilleté de saumon et de poireau, sauce aux c...</td>\n",
       "      <td>Plat principal</td>\n",
       "      <td>Facile</td>\n",
       "      <td>Moyen</td>\n",
       "      <td>- 1 gros pavé de saumon - 100 g de crevettes d...</td>\n",
       "      <td>Couper finement le blanc et un peu de vert des...</td>\n",
       "    </tr>\n",
       "    <tr>\n",
       "      <th>1</th>\n",
       "      <td>recette_48656.xml</td>\n",
       "      <td>Cake poulet/moutarde/amandes</td>\n",
       "      <td>Entrée</td>\n",
       "      <td>Très facile</td>\n",
       "      <td>Bon marché</td>\n",
       "      <td>- 3 œufs - 150 g de farine - 1 sachet de levur...</td>\n",
       "      <td>Couper finement l'échalote, la faire revenir à...</td>\n",
       "    </tr>\n",
       "    <tr>\n",
       "      <th>2</th>\n",
       "      <td>recette_30049.xml</td>\n",
       "      <td>Bûche à la truite fumée (7ème rencontre)</td>\n",
       "      <td>Entrée</td>\n",
       "      <td>Moyennement difficile</td>\n",
       "      <td>Assez Cher</td>\n",
       "      <td>- 800 g de filet de truite saumonnée fumée en ...</td>\n",
       "      <td>Faites blanchir les épinards à l'eau bouillant...</td>\n",
       "    </tr>\n",
       "    <tr>\n",
       "      <th>3</th>\n",
       "      <td>recette_71424.xml</td>\n",
       "      <td>Gâteau au yaourt au coco sans huile de laetitia</td>\n",
       "      <td>Dessert</td>\n",
       "      <td>Très facile</td>\n",
       "      <td>Bon marché</td>\n",
       "      <td>- 1 pot de yaourt - 1 pot de lait de coco - 3 ...</td>\n",
       "      <td>Mélanger dans l'ordre tous les ingrédients en ...</td>\n",
       "    </tr>\n",
       "    <tr>\n",
       "      <th>4</th>\n",
       "      <td>recette_217204.xml</td>\n",
       "      <td>Crêpes au canard laqué</td>\n",
       "      <td>Entrée</td>\n",
       "      <td>Moyennement difficile</td>\n",
       "      <td>Moyen</td>\n",
       "      <td>- 90 g de farine - 45 g de maïzena - 2 œufs - ...</td>\n",
       "      <td>Fouetter les œufs avec l'eau, le lait et le su...</td>\n",
       "    </tr>\n",
       "  </tbody>\n",
       "</table>\n",
       "</div>"
      ],
      "text/plain": [
       "               doc_id                                              titre  \\\n",
       "0  recette_221358.xml  Feuilleté de saumon et de poireau, sauce aux c...   \n",
       "1   recette_48656.xml                       Cake poulet/moutarde/amandes   \n",
       "2   recette_30049.xml           Bûche à la truite fumée (7ème rencontre)   \n",
       "3   recette_71424.xml    Gâteau au yaourt au coco sans huile de laetitia   \n",
       "4  recette_217204.xml                             Crêpes au canard laqué   \n",
       "\n",
       "             type             difficulte        cout  \\\n",
       "0  Plat principal                 Facile       Moyen   \n",
       "1          Entrée            Très facile  Bon marché   \n",
       "2          Entrée  Moyennement difficile  Assez Cher   \n",
       "3         Dessert            Très facile  Bon marché   \n",
       "4          Entrée  Moyennement difficile       Moyen   \n",
       "\n",
       "                                         ingredients  \\\n",
       "0  - 1 gros pavé de saumon - 100 g de crevettes d...   \n",
       "1  - 3 œufs - 150 g de farine - 1 sachet de levur...   \n",
       "2  - 800 g de filet de truite saumonnée fumée en ...   \n",
       "3  - 1 pot de yaourt - 1 pot de lait de coco - 3 ...   \n",
       "4  - 90 g de farine - 45 g de maïzena - 2 œufs - ...   \n",
       "\n",
       "                                             recette  \n",
       "0  Couper finement le blanc et un peu de vert des...  \n",
       "1  Couper finement l'échalote, la faire revenir à...  \n",
       "2  Faites blanchir les épinards à l'eau bouillant...  \n",
       "3  Mélanger dans l'ordre tous les ingrédients en ...  \n",
       "4  Fouetter les œufs avec l'eau, le lait et le su...  "
      ]
     },
     "execution_count": 3,
     "metadata": {},
     "output_type": "execute_result"
    }
   ],
   "source": [
    "import pandas as pd # For files manipulations.\n",
    "import numpy as np # For matrex manipulations.\n",
    "\n",
    "df = pd.read_csv('../data/train.csv') # read the file (df = dataframe).\n",
    "df.head() # display first 5 rows of the file."
   ]
  },
  {
   "cell_type": "code",
   "execution_count": 53,
   "id": "7c8e4540-2fed-4eeb-9490-e74f1a2e8386",
   "metadata": {},
   "outputs": [],
   "source": [
    "from sklearn.feature_extraction.text import TfidfVectorizer\n",
    "from sklearn.ensemble import RandomForestClassifier\n",
    "from sklearn.model_selection import train_test_split\n",
    "from sklearn.feature_extraction.text import CountVectorizer\n",
    "\n",
    "# Preprocessing the textual data\n",
    "# Assuming `features` contains textual data in the 'titre', 'difficulte', 'cout', 'ingredients', and 'recette' columns\n",
    "text_data = df['titre'] + ' ' + df['difficulte'] + ' ' + df['cout'] + ' ' + df['ingredients'] + ' ' + df['recette']\n",
    "\n",
    "# Splitting the data\n",
    "x_train, x_test, y_train, y_test = train_test_split(text_data, labels, test_size=0.30, random_state=42)"
   ]
  },
  {
   "cell_type": "code",
   "execution_count": 68,
   "id": "dc17dd93-bbf4-43e6-a81e-ad4848a13f84",
   "metadata": {},
   "outputs": [
    {
     "name": "stdout",
     "output_type": "stream",
     "text": [
      "Accuracy (TF-IDF) : 80.35809727418493 %\n"
     ]
    }
   ],
   "source": [
    "# Vectorizing the text data using TF-IDF\n",
    "tfidf_vectorizer = TfidfVectorizer(max_features=1000)  # You can adjust the max_features as needed\n",
    "x_train_tfidf = tfidf_vectorizer.fit_transform(x_train)\n",
    "x_test_tfidf = tfidf_vectorizer.transform(x_test)\n",
    "\n",
    "# Training the classifier\n",
    "clf = RandomForestClassifier(n_estimators=10)\n",
    "clf.fit(x_train_tfidf, y_train)\n",
    "\n",
    "## Evaluating the classifier\n",
    "accuracy = clf.score(x_test_tfidf, y_test)\n",
    "print(\"Accuracy (TF-IDF) :\", accuracy*100, '%')"
   ]
  },
  {
   "cell_type": "code",
   "execution_count": 69,
   "id": "127070f9-44bb-41d8-965f-125c7a975a4e",
   "metadata": {},
   "outputs": [
    {
     "name": "stdout",
     "output_type": "stream",
     "text": [
      "\n",
      "Training Classification Report:\n",
      "\n",
      "                 precision    recall  f1-score   support\n",
      "\n",
      "       Dessert       1.00      1.00      1.00      2670\n",
      "        Entrée       0.99      0.99      0.99      1997\n",
      "Plat principal       1.00      1.00      1.00      4064\n",
      "\n",
      "      accuracy                           1.00      8731\n",
      "     macro avg       1.00      1.00      1.00      8731\n",
      "  weighted avg       1.00      1.00      1.00      8731\n",
      "\n",
      "\n",
      "Confusion Matrix Of Training:\n",
      "\n",
      " [[2670    0    0]\n",
      " [   3 1980   14]\n",
      " [   1   13 4050]]\n"
     ]
    }
   ],
   "source": [
    "# Confusion Matrix & Classification Report for the testing sample\n",
    "from sklearn.metrics import classification_report\n",
    "from sklearn.metrics import confusion_matrix\n",
    "\n",
    "y_pred = clf.predict(x_train_tfidf)\n",
    "print (\"\\nTraining Classification Report:\\n\\n\", classification_report(y_train, y_pred))\n",
    "\n",
    "print (\"\\nConfusion Matrix Of Training:\\n\\n\", confusion_matrix(y_train, y_pred))"
   ]
  },
  {
   "cell_type": "code",
   "execution_count": 70,
   "id": "26d5c319-7e9c-40bb-9a1f-ce5cb340638b",
   "metadata": {},
   "outputs": [
    {
     "name": "stdout",
     "output_type": "stream",
     "text": [
      "Accuracy (BoW) : 80.41154462854088 %\n"
     ]
    }
   ],
   "source": [
    "# Vectorizing the text data using Bag of Words (BoW)\n",
    "bow_vectorizer = CountVectorizer(max_features=1000)  # You can adjust the max_features as needed\n",
    "x_train_bow = bow_vectorizer.fit_transform(x_train)\n",
    "x_test_bow = bow_vectorizer.transform(x_test)\n",
    "\n",
    "# Training the classifier\n",
    "clf = RandomForestClassifier(n_estimators=10)\n",
    "clf.fit(x_train_bow, y_train)\n",
    "\n",
    "# Evaluating the classifier\n",
    "accuracy = clf.score(x_test_bow, y_test)\n",
    "print(\"Accuracy (BoW) :\", accuracy*100, '%')"
   ]
  },
  {
   "cell_type": "code",
   "execution_count": 61,
   "id": "cd9ab2c5-78d3-463c-8f55-0f05f7587f27",
   "metadata": {},
   "outputs": [
    {
     "name": "stdout",
     "output_type": "stream",
     "text": [
      "\n",
      "Training Classification Report:\n",
      "\n",
      "                 precision    recall  f1-score   support\n",
      "\n",
      "       Dessert       1.00      1.00      1.00      2670\n",
      "        Entrée       0.99      0.99      0.99      1997\n",
      "Plat principal       1.00      0.99      0.99      4064\n",
      "\n",
      "      accuracy                           0.99      8731\n",
      "     macro avg       0.99      0.99      0.99      8731\n",
      "  weighted avg       0.99      0.99      0.99      8731\n",
      "\n",
      "\n",
      "Confusion Matrix Of Training:\n",
      "\n",
      " [[2670    0    0]\n",
      " [   4 1974   19]\n",
      " [   2   20 4042]]\n"
     ]
    }
   ],
   "source": [
    "# Confusion Matrix & Classification Report for the testing sample\n",
    "from sklearn.metrics import classification_report\n",
    "from sklearn.metrics import confusion_matrix\n",
    "\n",
    "y_pred = clf.predict(x_train_bow)\n",
    "print (\"\\nTraining Classification Report:\\n\\n\", classification_report(y_train, y_pred))\n",
    "\n",
    "print (\"\\nConfusion Matrix Of Training:\\n\\n\", confusion_matrix(y_train, y_pred))"
   ]
  }
 ],
 "metadata": {
  "kernelspec": {
   "display_name": "Python 3 (ipykernel)",
   "language": "python",
   "name": "python3"
  },
  "language_info": {
   "codemirror_mode": {
    "name": "ipython",
    "version": 3
   },
   "file_extension": ".py",
   "mimetype": "text/x-python",
   "name": "python",
   "nbconvert_exporter": "python",
   "pygments_lexer": "ipython3",
   "version": "3.10.13"
  }
 },
 "nbformat": 4,
 "nbformat_minor": 5
}
